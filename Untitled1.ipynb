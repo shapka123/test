{
  "nbformat": 4,
  "nbformat_minor": 0,
  "metadata": {
    "colab": {
      "provenance": [],
      "authorship_tag": "ABX9TyOhn6UmcnyzzdVcuKRraQ+y",
      "include_colab_link": true
    },
    "kernelspec": {
      "name": "python3",
      "display_name": "Python 3"
    },
    "language_info": {
      "name": "python"
    }
  },
  "cells": [
    {
      "cell_type": "markdown",
      "metadata": {
        "id": "view-in-github",
        "colab_type": "text"
      },
      "source": [
        "<a href=\"https://colab.research.google.com/github/shapka123/test/blob/main/Untitled1.ipynb\" target=\"_parent\"><img src=\"https://colab.research.google.com/assets/colab-badge.svg\" alt=\"Open In Colab\"/></a>"
      ]
    },
    {
      "cell_type": "code",
      "execution_count": 6,
      "metadata": {
        "colab": {
          "base_uri": "https://localhost:8080/"
        },
        "id": "y83Zxk2v-pzr",
        "outputId": "571775e0-099e-4c79-8fb9-ab91a06e2da2"
      },
      "outputs": [
        {
          "output_type": "stream",
          "name": "stdout",
          "text": [
            "/bin/bash: -c: line 0: syntax error near unexpected token `('\n",
            "/bin/bash: -c: line 0: `[Картинка с котиком](https://avatars.mds.yandex.net/i?id=22298872c440886e76727824e4804405d83d4cee-8526247-images-thumbs&n=13)'\n"
          ]
        }
      ],
      "source": [
        "![Картинка с котиком](https://avatars.mds.yandex.net/i?id=22298872c440886e76727824e4804405d83d4cee-8526247-images-thumbs&n=13)"
      ]
    },
    {
      "cell_type": "code",
      "source": [
        "![Сайт по изучению C++](https://www.learn-c.org/)"
      ],
      "metadata": {
        "colab": {
          "base_uri": "https://localhost:8080/"
        },
        "id": "9ip5fwiW_I09",
        "outputId": "f08cc0f9-f584-4c3a-9c6a-ed2c9e8684c5"
      },
      "execution_count": 7,
      "outputs": [
        {
          "output_type": "stream",
          "name": "stdout",
          "text": [
            "/bin/bash: -c: line 0: syntax error near unexpected token `('\n",
            "/bin/bash: -c: line 0: `[Сайт по изучению C++](https://www.learn-c.org/)'\n"
          ]
        }
      ]
    }
  ]
}